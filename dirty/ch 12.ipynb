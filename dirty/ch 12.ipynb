{
 "cells": [
  {
   "cell_type": "markdown",
   "metadata": {},
   "source": [
    "### 12.1\n",
    "There are no mathematical grounds for disregarding the second result. If the forecast is based on AR(1) process, then the Sharpe ratio should not be that different between series since Gaussian AR(1) processes are time reversible. It is much more plausible that the forecast is overfitting since the normal WF method performed so well yet the reversed series so much more poorly.  \n",
    "\n",
    "Refs: https://www2.stat.duke.edu/~km68/materials/214.2%20(AR1).pdf  \n",
    "https://stats.stackexchange.com/questions/109766/estimation-of-ar1-process  \n",
    "\n",
    "\n",
    "### 12.2\n",
    "Yes this is selection bias, since the results provided are not representative of the actual results be anaylzed. The smaller the warm up period, the more the initial decisions are being made on a smaller portion of the total sample. This is not representative of the results we are trying to analyze with a backtest, as those initial decisions might of randomly made forecasts that skewed the final Sharpe Ratio.  \n",
    "\n",
    "### 12.3\n",
    "Yes this is selection bias. Even though the CV backtest doesn't provide a historical interpretation, it still has many advantages such as providing an inference of future performance from a number of out-of-sample scenarios. There is no reason to present only the WF backtest result; why not present both results? By omitting the CV backtest results, it is exhibiting selection bias. Both backtests have their pros/cons and different interpretations, hence both should be provided.  \n",
    "\n",
    "### 12.4\n",
    "Since k is size of groups, we know it cannot be negative nor zero. If k is 1, then the CPCV reduces to CV which has just one path, which will not work to accomplish our goal of 1000 paths. When k=2, we know that N=φ+1, so (1001, 2) is one combination to get 1000 paths. In order to find the max value for k, we know that N=k+1 when φ=k, from the combination formula in the equation (if k>φ, then n>k, which gives us at least k=1001 and N=1002, yielding φ=1001). From there we get the max parameters of (1001, 1000). In order to determine if there are anymore pairs that work in between, we use the script below. Assuming that k and N must be integers, then the only possibilities are:  \n",
    "N = 1001, k = 2  \n",
    "N = 1001, k = 1000"
   ]
  },
  {
   "cell_type": "code",
   "execution_count": 1,
   "metadata": {},
   "outputs": [],
   "source": [
    "from scipy.special import comb"
   ]
  },
  {
   "cell_type": "code",
   "execution_count": 2,
   "metadata": {},
   "outputs": [
    {
     "name": "stdout",
     "output_type": "stream",
     "text": [
      "1000.0 1001 2\n",
      "1000.0 1001 1000\n"
     ]
    }
   ],
   "source": [
    "for k in range(1, 1002):\n",
    "    for n in range(1, 1002):\n",
    "        paths = comb(n,(n-k))*(k/n)\n",
    "        if paths == 1000:\n",
    "            print(paths, n, k)"
   ]
  },
  {
   "cell_type": "markdown",
   "metadata": {},
   "source": [
    "### 12.5\n"
   ]
  },
  {
   "cell_type": "markdown",
   "metadata": {},
   "source": [
    "Scientifically speaking, ignoring the results from the CPCV method could be somewhat justified by claiming that the variance is too high which could of lead to false results. With N=100 and k=2, we are testing 99 paths. If T>>N, then 99 paths might not be enough, leading to high variance and possibly a false discovery i.e. low Sharpe ratio. CPCV leads to lower false discoveries, but that does not mean they do not occur.  \n",
    "Ethically speaking, I believe there is no justification for the actions since one could always lower the variance by modifying N & k values if you thought the previous run was a false discovery. Additional CPCV tests are always better than none, so it is not ethically correct to submit to a different journal. "
   ]
  },
  {
   "cell_type": "code",
   "execution_count": null,
   "metadata": {},
   "outputs": [],
   "source": [
    "# TODO: review 12.5 answer, is that a scientific reason to ignore results?"
   ]
  }
 ],
 "metadata": {
  "kernelspec": {
   "display_name": "Python 3",
   "language": "python",
   "name": "python3"
  },
  "language_info": {
   "codemirror_mode": {
    "name": "ipython",
    "version": 3
   },
   "file_extension": ".py",
   "mimetype": "text/x-python",
   "name": "python",
   "nbconvert_exporter": "python",
   "pygments_lexer": "ipython3",
   "version": "3.6.5"
  }
 },
 "nbformat": 4,
 "nbformat_minor": 2
}
