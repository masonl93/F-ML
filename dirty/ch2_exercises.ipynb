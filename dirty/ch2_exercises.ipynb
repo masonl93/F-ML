{
 "cells": [
  {
   "cell_type": "code",
   "execution_count": 1,
   "metadata": {},
   "outputs": [],
   "source": [
    "import numpy as np\n",
    "import pandas as pd\n",
    "import seaborn as sns\n",
    "import matplotlib as mpl\n",
    "import matplotlib.pyplot as plt\n",
    "%matplotlib inline\n",
    "import scipy.stats as stats\n",
    "\n",
    "from pathlib import PurePath, Path\n",
    "import pyarrow"
   ]
  },
  {
   "cell_type": "code",
   "execution_count": 2,
   "metadata": {},
   "outputs": [],
   "source": [
    "def read_kibot_ticks(fp):\n",
    "    cols = list(map(str.lower,['Date','Time','Price','Bid','Ask','Size']))\n",
    "    df = (pd.read_csv(fp, header=None)\n",
    "          .rename(columns=dict(zip(range(len(cols)),cols)))\n",
    "          .assign(dates=lambda df: (pd.to_datetime(df['date']+df['time'],\n",
    "                                                  format='%m/%d/%Y%H:%M:%S')))\n",
    "          .assign(v=lambda df: df['size']) # volume\n",
    "          .assign(dv=lambda df: df['price']*df['size']) # dollar volume\n",
    "          .drop(['date','time'],axis=1)\n",
    "          .set_index('dates')\n",
    "          .drop_duplicates())\n",
    "    return df"
   ]
  },
  {
   "cell_type": "code",
   "execution_count": 4,
   "metadata": {},
   "outputs": [
    {
     "name": "stdout",
     "output_type": "stream",
     "text": [
      "                        price     bid     ask   size      v            dv\n",
      "dates                                                                    \n",
      "2009-09-28 09:30:00   50.7900   50.70   50.79    100    100  5.079000e+03\n",
      "2009-09-28 09:30:00   50.7100   50.70   50.79    638    638  3.235298e+04\n",
      "2009-09-28 09:31:32   50.7500   50.75   50.76    100    100  5.075000e+03\n",
      "2009-09-28 09:31:33   50.7500   50.72   50.75    100    100  5.075000e+03\n",
      "2009-09-28 09:31:50   50.7500   50.73   50.76    300    300  1.522500e+04\n",
      "2009-09-28 09:31:51   50.7500   50.74   50.76    300    300  1.522500e+04\n",
      "2009-09-28 09:32:06   50.7800   50.76   50.78    300    300  1.523400e+04\n",
      "2009-09-28 09:32:06   50.7800   50.76   50.78    500    500  2.539000e+04\n",
      "2009-09-28 09:32:06   50.7800   50.76   50.78    100    100  5.078000e+03\n",
      "2009-09-28 09:32:56   50.8226   50.81   50.83    100    100  5.082260e+03\n",
      "2009-09-28 09:33:02   50.8100   50.80   50.81    500    500  2.540500e+04\n",
      "2009-09-28 09:33:02   50.8100   50.80   50.81    300    300  1.524300e+04\n",
      "2009-09-28 09:33:08   50.8200   50.80   50.83    500    500  2.541000e+04\n",
      "2009-09-28 09:33:08   50.8200   50.80   50.83    298    298  1.514436e+04\n",
      "2009-09-28 09:33:35   50.8100   50.80   50.83    100    100  5.081000e+03\n",
      "2009-09-28 09:33:54   50.8200   50.80   50.82    100    100  5.082000e+03\n",
      "2009-09-28 09:33:54   50.8200   50.80   50.82    400    400  2.032800e+04\n",
      "2009-09-28 09:34:58   50.8000   50.78   50.80    100    100  5.080000e+03\n",
      "2009-09-28 09:34:58   50.8000   50.78   50.80    200    200  1.016000e+04\n",
      "2009-09-28 09:36:32   50.8500   50.84   50.86    300    300  1.525500e+04\n",
      "2009-09-28 09:37:22   50.8340   50.83   50.85    200    200  1.016680e+04\n",
      "2009-09-28 09:37:29   50.8200   50.82   50.84    400    400  2.032800e+04\n",
      "2009-09-28 09:37:29   50.8200   50.81   50.84    300    300  1.524600e+04\n",
      "2009-09-28 09:37:33   50.8299   50.80   50.83    166    166  8.437763e+03\n",
      "2009-09-28 09:38:28   50.8100   50.79   50.81    195    195  9.907950e+03\n",
      "2009-09-28 09:38:32   50.8100   50.80   50.82    300    300  1.524300e+04\n",
      "2009-09-28 09:38:32   50.8100   50.80   50.82    400    400  2.032400e+04\n",
      "2009-09-28 09:38:32   50.8100   50.81   50.82    300    300  1.524300e+04\n",
      "2009-09-28 09:40:00   50.8100   50.78   50.81    157    157  7.977170e+03\n",
      "2009-09-28 09:40:03   50.8000   50.79   50.81    100    100  5.080000e+03\n",
      "...                       ...     ...     ...    ...    ...           ...\n",
      "2019-04-09 15:59:07  114.8800  114.88  114.89    198    198  2.274624e+04\n",
      "2019-04-09 15:59:07  114.8800  114.88  114.89    558    558  6.410304e+04\n",
      "2019-04-09 15:59:07  114.8800  114.88  114.89    297    297  3.411936e+04\n",
      "2019-04-09 15:59:07  114.8900  114.88  114.89    312    312  3.584568e+04\n",
      "2019-04-09 15:59:08  114.8900  114.89  114.90    144    144  1.654416e+04\n",
      "2019-04-09 15:59:14  114.9081  114.90  114.92    750    750  8.618107e+04\n",
      "2019-04-09 15:59:42  114.9500  114.94  114.96    643    643  7.391285e+04\n",
      "2019-04-09 15:59:42  114.9500  114.94  114.96   1408   1408  1.618496e+05\n",
      "2019-04-09 15:59:42  114.9500  114.94  114.96    165    165  1.896675e+04\n",
      "2019-04-09 15:59:46  114.9400  114.94  114.95    267    267  3.068898e+04\n",
      "2019-04-09 15:59:46  114.9400  114.94  114.95    388    388  4.459672e+04\n",
      "2019-04-09 15:59:46  114.9500  114.95  114.96   1000   1000  1.149500e+05\n",
      "2019-04-09 15:59:46  114.9500  114.95  114.96   1508   1508  1.733446e+05\n",
      "2019-04-09 15:59:46  114.9500  114.95  114.96    283    283  3.253085e+04\n",
      "2019-04-09 15:59:46  114.9500  114.95  114.96    293    293  3.368035e+04\n",
      "2019-04-09 15:59:48  114.9600  114.96  114.97    195    195  2.241720e+04\n",
      "2019-04-09 15:59:50  114.9700  114.96  114.97    158    158  1.816526e+04\n",
      "2019-04-09 15:59:50  114.9700  114.96  114.98    256    256  2.943232e+04\n",
      "2019-04-09 15:59:50  114.9700  114.96  114.98    405    405  4.656285e+04\n",
      "2019-04-09 15:59:50  114.9700  114.96  114.98    123    123  1.414131e+04\n",
      "2019-04-09 15:59:55  114.9900  114.98  114.99    137    137  1.575363e+04\n",
      "2019-04-09 15:59:55  114.9900  114.98  114.99    210    210  2.414790e+04\n",
      "2019-04-09 15:59:58  115.0000  114.99  115.01    986    986  1.133900e+05\n",
      "2019-04-09 15:59:58  115.0000  114.99  115.01    800    800  9.200000e+04\n",
      "2019-04-09 15:59:59  114.9900  114.99  115.01    276    276  3.173724e+04\n",
      "2019-04-09 15:59:59  115.0100  114.99  115.01    900    900  1.035090e+05\n",
      "2019-04-09 15:59:59  115.0100  115.00  115.01    900    900  1.035090e+05\n",
      "2019-04-09 16:00:00  115.0100  115.01  115.02  14591  14591  1.678111e+06\n",
      "2019-04-09 16:10:00  115.0100  114.33  115.55      0      0  0.000000e+00\n",
      "2019-04-09 18:30:00  115.0100  112.86  115.17      0      0  0.000000e+00\n",
      "\n",
      "[1587993 rows x 6 columns]\n"
     ]
    }
   ],
   "source": [
    "data = PurePath('data/IVE_tickbidask.csv')\n",
    "df = read_kibot_ticks(data)\n",
    "print(df)"
   ]
  },
  {
   "cell_type": "code",
   "execution_count": 5,
   "metadata": {},
   "outputs": [
    {
     "data": {
      "text/plain": [
       "<matplotlib.axes._subplots.AxesSubplot at 0x1dd8004ff60>"
      ]
     },
     "execution_count": 5,
     "metadata": {},
     "output_type": "execute_result"
    },
    {
     "data": {
      "image/png": "[encoded data removed]",
      "text/plain": [
       "<Figure size 432x288 with 1 Axes>"
      ]
     },
     "metadata": {},
     "output_type": "display_data"
    }
   ],
   "source": [
    "# Remove data errors\n",
    "sns.boxplot(df.price)"
   ]
  },
  {
   "cell_type": "code",
   "execution_count": 6,
   "metadata": {},
   "outputs": [],
   "source": [
    "def mad_outlier(y, thresh=3.):\n",
    "    '''\n",
    "    compute outliers based on mad\n",
    "    # args\n",
    "        y: assumed to be array with shape (N,1)\n",
    "        thresh: float()\n",
    "    # returns\n",
    "        array index of outliers\n",
    "    '''\n",
    "    median = np.median(y)\n",
    "    diff = np.sum((y - median)**2, axis=-1)\n",
    "    diff = np.sqrt(diff)\n",
    "    med_abs_deviation = np.median(diff)\n",
    "\n",
    "    modified_z_score = 0.6745 * diff / med_abs_deviation\n",
    "\n",
    "    return modified_z_score > thresh"
   ]
  },
  {
   "cell_type": "code",
   "execution_count": 7,
   "metadata": {},
   "outputs": [
    {
     "data": {
      "text/plain": [
       "<matplotlib.axes._subplots.AxesSubplot at 0x1dde8454438>"
      ]
     },
     "execution_count": 7,
     "metadata": {},
     "output_type": "execute_result"
    },
    {
     "data": {
      "image/png": "[encoded data removed]",
      "text/plain": [
       "<Figure size 432x288 with 1 Axes>"
      ]
     },
     "metadata": {},
     "output_type": "display_data"
    }
   ],
   "source": [
    "mad = mad_outlier(df.price.values.reshape(-1,1))\n",
    "df.loc[mad]\n",
    "sns.boxplot(df.loc[~mad].price)"
   ]
  },
  {
   "cell_type": "code",
   "execution_count": 8,
   "metadata": {},
   "outputs": [
    {
     "name": "stdout",
     "output_type": "stream",
     "text": [
      "                        price     bid     ask   size      v            dv\n",
      "dates                                                                    \n",
      "2009-09-28 09:30:00   50.7900   50.70   50.79    100    100  5.079000e+03\n",
      "2009-09-28 09:30:00   50.7100   50.70   50.79    638    638  3.235298e+04\n",
      "2009-09-28 09:31:32   50.7500   50.75   50.76    100    100  5.075000e+03\n",
      "2009-09-28 09:31:33   50.7500   50.72   50.75    100    100  5.075000e+03\n",
      "2009-09-28 09:31:50   50.7500   50.73   50.76    300    300  1.522500e+04\n",
      "2009-09-28 09:31:51   50.7500   50.74   50.76    300    300  1.522500e+04\n",
      "2009-09-28 09:32:06   50.7800   50.76   50.78    300    300  1.523400e+04\n",
      "2009-09-28 09:32:06   50.7800   50.76   50.78    500    500  2.539000e+04\n",
      "2009-09-28 09:32:06   50.7800   50.76   50.78    100    100  5.078000e+03\n",
      "2009-09-28 09:32:56   50.8226   50.81   50.83    100    100  5.082260e+03\n",
      "2009-09-28 09:33:02   50.8100   50.80   50.81    500    500  2.540500e+04\n",
      "2009-09-28 09:33:02   50.8100   50.80   50.81    300    300  1.524300e+04\n",
      "2009-09-28 09:33:08   50.8200   50.80   50.83    500    500  2.541000e+04\n",
      "2009-09-28 09:33:08   50.8200   50.80   50.83    298    298  1.514436e+04\n",
      "2009-09-28 09:33:35   50.8100   50.80   50.83    100    100  5.081000e+03\n",
      "2009-09-28 09:33:54   50.8200   50.80   50.82    100    100  5.082000e+03\n",
      "2009-09-28 09:33:54   50.8200   50.80   50.82    400    400  2.032800e+04\n",
      "2009-09-28 09:34:58   50.8000   50.78   50.80    100    100  5.080000e+03\n",
      "2009-09-28 09:34:58   50.8000   50.78   50.80    200    200  1.016000e+04\n",
      "2009-09-28 09:36:32   50.8500   50.84   50.86    300    300  1.525500e+04\n",
      "2009-09-28 09:37:22   50.8340   50.83   50.85    200    200  1.016680e+04\n",
      "2009-09-28 09:37:29   50.8200   50.82   50.84    400    400  2.032800e+04\n",
      "2009-09-28 09:37:29   50.8200   50.81   50.84    300    300  1.524600e+04\n",
      "2009-09-28 09:37:33   50.8299   50.80   50.83    166    166  8.437763e+03\n",
      "2009-09-28 09:38:28   50.8100   50.79   50.81    195    195  9.907950e+03\n",
      "2009-09-28 09:38:32   50.8100   50.80   50.82    300    300  1.524300e+04\n",
      "2009-09-28 09:38:32   50.8100   50.80   50.82    400    400  2.032400e+04\n",
      "2009-09-28 09:38:32   50.8100   50.81   50.82    300    300  1.524300e+04\n",
      "2009-09-28 09:40:00   50.8100   50.78   50.81    157    157  7.977170e+03\n",
      "2009-09-28 09:40:03   50.8000   50.79   50.81    100    100  5.080000e+03\n",
      "...                       ...     ...     ...    ...    ...           ...\n",
      "2019-04-09 15:59:07  114.8800  114.88  114.89    198    198  2.274624e+04\n",
      "2019-04-09 15:59:07  114.8800  114.88  114.89    558    558  6.410304e+04\n",
      "2019-04-09 15:59:07  114.8800  114.88  114.89    297    297  3.411936e+04\n",
      "2019-04-09 15:59:07  114.8900  114.88  114.89    312    312  3.584568e+04\n",
      "2019-04-09 15:59:08  114.8900  114.89  114.90    144    144  1.654416e+04\n",
      "2019-04-09 15:59:14  114.9081  114.90  114.92    750    750  8.618107e+04\n",
      "2019-04-09 15:59:42  114.9500  114.94  114.96    643    643  7.391285e+04\n",
      "2019-04-09 15:59:42  114.9500  114.94  114.96   1408   1408  1.618496e+05\n",
      "2019-04-09 15:59:42  114.9500  114.94  114.96    165    165  1.896675e+04\n",
      "2019-04-09 15:59:46  114.9400  114.94  114.95    267    267  3.068898e+04\n",
      "2019-04-09 15:59:46  114.9400  114.94  114.95    388    388  4.459672e+04\n",
      "2019-04-09 15:59:46  114.9500  114.95  114.96   1000   1000  1.149500e+05\n",
      "2019-04-09 15:59:46  114.9500  114.95  114.96   1508   1508  1.733446e+05\n",
      "2019-04-09 15:59:46  114.9500  114.95  114.96    283    283  3.253085e+04\n",
      "2019-04-09 15:59:46  114.9500  114.95  114.96    293    293  3.368035e+04\n",
      "2019-04-09 15:59:48  114.9600  114.96  114.97    195    195  2.241720e+04\n",
      "2019-04-09 15:59:50  114.9700  114.96  114.97    158    158  1.816526e+04\n",
      "2019-04-09 15:59:50  114.9700  114.96  114.98    256    256  2.943232e+04\n",
      "2019-04-09 15:59:50  114.9700  114.96  114.98    405    405  4.656285e+04\n",
      "2019-04-09 15:59:50  114.9700  114.96  114.98    123    123  1.414131e+04\n",
      "2019-04-09 15:59:55  114.9900  114.98  114.99    137    137  1.575363e+04\n",
      "2019-04-09 15:59:55  114.9900  114.98  114.99    210    210  2.414790e+04\n",
      "2019-04-09 15:59:58  115.0000  114.99  115.01    986    986  1.133900e+05\n",
      "2019-04-09 15:59:58  115.0000  114.99  115.01    800    800  9.200000e+04\n",
      "2019-04-09 15:59:59  114.9900  114.99  115.01    276    276  3.173724e+04\n",
      "2019-04-09 15:59:59  115.0100  114.99  115.01    900    900  1.035090e+05\n",
      "2019-04-09 15:59:59  115.0100  115.00  115.01    900    900  1.035090e+05\n",
      "2019-04-09 16:00:00  115.0100  115.01  115.02  14591  14591  1.678111e+06\n",
      "2019-04-09 16:10:00  115.0100  114.33  115.55      0      0  0.000000e+00\n",
      "2019-04-09 18:30:00  115.0100  112.86  115.17      0      0  0.000000e+00\n",
      "\n",
      "[1587982 rows x 6 columns]\n"
     ]
    }
   ],
   "source": [
    "df_clean = df.loc[~mad]\n",
    "print(df_clean)"
   ]
  },
  {
   "cell_type": "code",
   "execution_count": 9,
   "metadata": {},
   "outputs": [],
   "source": [
    "df = df_clean\n",
    "outfp = PurePath('data/clean_IVE_ticks.parq')\n",
    "df.to_parquet(outfp)"
   ]
  },
  {
   "cell_type": "code",
   "execution_count": 10,
   "metadata": {},
   "outputs": [],
   "source": [
    "del df"
   ]
  },
  {
   "cell_type": "code",
   "execution_count": 11,
   "metadata": {},
   "outputs": [
    {
     "name": "stdout",
     "output_type": "stream",
     "text": [
      "                        price     bid     ask   size      v            dv\n",
      "dates                                                                    \n",
      "2009-09-28 09:30:00   50.7900   50.70   50.79    100    100  5.079000e+03\n",
      "2009-09-28 09:30:00   50.7100   50.70   50.79    638    638  3.235298e+04\n",
      "2009-09-28 09:31:32   50.7500   50.75   50.76    100    100  5.075000e+03\n",
      "2009-09-28 09:31:33   50.7500   50.72   50.75    100    100  5.075000e+03\n",
      "2009-09-28 09:31:50   50.7500   50.73   50.76    300    300  1.522500e+04\n",
      "2009-09-28 09:31:51   50.7500   50.74   50.76    300    300  1.522500e+04\n",
      "2009-09-28 09:32:06   50.7800   50.76   50.78    300    300  1.523400e+04\n",
      "2009-09-28 09:32:06   50.7800   50.76   50.78    500    500  2.539000e+04\n",
      "2009-09-28 09:32:06   50.7800   50.76   50.78    100    100  5.078000e+03\n",
      "2009-09-28 09:32:56   50.8226   50.81   50.83    100    100  5.082260e+03\n",
      "2009-09-28 09:33:02   50.8100   50.80   50.81    500    500  2.540500e+04\n",
      "2009-09-28 09:33:02   50.8100   50.80   50.81    300    300  1.524300e+04\n",
      "2009-09-28 09:33:08   50.8200   50.80   50.83    500    500  2.541000e+04\n",
      "2009-09-28 09:33:08   50.8200   50.80   50.83    298    298  1.514436e+04\n",
      "2009-09-28 09:33:35   50.8100   50.80   50.83    100    100  5.081000e+03\n",
      "2009-09-28 09:33:54   50.8200   50.80   50.82    100    100  5.082000e+03\n",
      "2009-09-28 09:33:54   50.8200   50.80   50.82    400    400  2.032800e+04\n",
      "2009-09-28 09:34:58   50.8000   50.78   50.80    100    100  5.080000e+03\n",
      "2009-09-28 09:34:58   50.8000   50.78   50.80    200    200  1.016000e+04\n",
      "2009-09-28 09:36:32   50.8500   50.84   50.86    300    300  1.525500e+04\n",
      "2009-09-28 09:37:22   50.8340   50.83   50.85    200    200  1.016680e+04\n",
      "2009-09-28 09:37:29   50.8200   50.82   50.84    400    400  2.032800e+04\n",
      "2009-09-28 09:37:29   50.8200   50.81   50.84    300    300  1.524600e+04\n",
      "2009-09-28 09:37:33   50.8299   50.80   50.83    166    166  8.437763e+03\n",
      "2009-09-28 09:38:28   50.8100   50.79   50.81    195    195  9.907950e+03\n",
      "2009-09-28 09:38:32   50.8100   50.80   50.82    300    300  1.524300e+04\n",
      "2009-09-28 09:38:32   50.8100   50.80   50.82    400    400  2.032400e+04\n",
      "2009-09-28 09:38:32   50.8100   50.81   50.82    300    300  1.524300e+04\n",
      "2009-09-28 09:40:00   50.8100   50.78   50.81    157    157  7.977170e+03\n",
      "2009-09-28 09:40:03   50.8000   50.79   50.81    100    100  5.080000e+03\n",
      "...                       ...     ...     ...    ...    ...           ...\n",
      "2019-04-09 15:59:07  114.8800  114.88  114.89    198    198  2.274624e+04\n",
      "2019-04-09 15:59:07  114.8800  114.88  114.89    558    558  6.410304e+04\n",
      "2019-04-09 15:59:07  114.8800  114.88  114.89    297    297  3.411936e+04\n",
      "2019-04-09 15:59:07  114.8900  114.88  114.89    312    312  3.584568e+04\n",
      "2019-04-09 15:59:08  114.8900  114.89  114.90    144    144  1.654416e+04\n",
      "2019-04-09 15:59:14  114.9081  114.90  114.92    750    750  8.618107e+04\n",
      "2019-04-09 15:59:42  114.9500  114.94  114.96    643    643  7.391285e+04\n",
      "2019-04-09 15:59:42  114.9500  114.94  114.96   1408   1408  1.618496e+05\n",
      "2019-04-09 15:59:42  114.9500  114.94  114.96    165    165  1.896675e+04\n",
      "2019-04-09 15:59:46  114.9400  114.94  114.95    267    267  3.068898e+04\n",
      "2019-04-09 15:59:46  114.9400  114.94  114.95    388    388  4.459672e+04\n",
      "2019-04-09 15:59:46  114.9500  114.95  114.96   1000   1000  1.149500e+05\n",
      "2019-04-09 15:59:46  114.9500  114.95  114.96   1508   1508  1.733446e+05\n",
      "2019-04-09 15:59:46  114.9500  114.95  114.96    283    283  3.253085e+04\n",
      "2019-04-09 15:59:46  114.9500  114.95  114.96    293    293  3.368035e+04\n",
      "2019-04-09 15:59:48  114.9600  114.96  114.97    195    195  2.241720e+04\n",
      "2019-04-09 15:59:50  114.9700  114.96  114.97    158    158  1.816526e+04\n",
      "2019-04-09 15:59:50  114.9700  114.96  114.98    256    256  2.943232e+04\n",
      "2019-04-09 15:59:50  114.9700  114.96  114.98    405    405  4.656285e+04\n",
      "2019-04-09 15:59:50  114.9700  114.96  114.98    123    123  1.414131e+04\n",
      "2019-04-09 15:59:55  114.9900  114.98  114.99    137    137  1.575363e+04\n",
      "2019-04-09 15:59:55  114.9900  114.98  114.99    210    210  2.414790e+04\n",
      "2019-04-09 15:59:58  115.0000  114.99  115.01    986    986  1.133900e+05\n",
      "2019-04-09 15:59:58  115.0000  114.99  115.01    800    800  9.200000e+04\n",
      "2019-04-09 15:59:59  114.9900  114.99  115.01    276    276  3.173724e+04\n",
      "2019-04-09 15:59:59  115.0100  114.99  115.01    900    900  1.035090e+05\n",
      "2019-04-09 15:59:59  115.0100  115.00  115.01    900    900  1.035090e+05\n",
      "2019-04-09 16:00:00  115.0100  115.01  115.02  14591  14591  1.678111e+06\n",
      "2019-04-09 16:10:00  115.0100  114.33  115.55      0      0  0.000000e+00\n",
      "2019-04-09 18:30:00  115.0100  112.86  115.17      0      0  0.000000e+00\n",
      "\n",
      "[1587982 rows x 6 columns]\n"
     ]
    }
   ],
   "source": [
    "data_f = PurePath('data/clean_IVE_ticks.parq')\n",
    "df = pd.read_parquet(data_f)\n",
    "print(df)"
   ]
  },
  {
   "cell_type": "code",
   "execution_count": 12,
   "metadata": {},
   "outputs": [
    {
     "name": "stdout",
     "output_type": "stream",
     "text": [
      "num ticks: 1,587,982\n",
      "volume ratio: 549.0\n",
      "dollar ratio: 47963.0\n"
     ]
    }
   ],
   "source": [
    "n_ticks = df.shape[0]\n",
    "volume_ratio = (df.v.sum()/n_ticks).round()\n",
    "dollar_ratio = (df.dv.sum()/n_ticks).round()\n",
    "print(f'num ticks: {n_ticks:,}')\n",
    "print(f'volume ratio: {volume_ratio}')\n",
    "print(f'dollar ratio: {dollar_ratio}')"
   ]
  },
  {
   "cell_type": "code",
   "execution_count": 13,
   "metadata": {},
   "outputs": [
    {
     "name": "stdout",
     "output_type": "stream",
     "text": [
      "tick threshold: 100\n"
     ]
    }
   ],
   "source": [
    "tick_M = 100\n",
    "print(f'tick threshold: {tick_M:,}')\n"
   ]
  },
  {
   "cell_type": "code",
   "execution_count": 14,
   "metadata": {},
   "outputs": [],
   "source": [
    "df_all_ticks = df"
   ]
  },
  {
   "cell_type": "code",
   "execution_count": 15,
   "metadata": {},
   "outputs": [],
   "source": [
    "df_tick = df_all_ticks[::tick_M]"
   ]
  },
  {
   "cell_type": "code",
   "execution_count": 16,
   "metadata": {},
   "outputs": [
    {
     "data": {
      "text/plain": [
       "((15,), (1466,))"
      ]
     },
     "execution_count": 16,
     "metadata": {},
     "output_type": "execute_result"
    }
   ],
   "source": [
    "# date = '2019-01-04'\n",
    "date = '2009-10-01'\n",
    "date_ticks = df_tick['price'].loc[date]\n",
    "all_date_ticks = df_all_ticks['price'].loc[date]\n",
    "date_ticks.shape, all_date_ticks.shape"
   ]
  },
  {
   "cell_type": "code",
   "execution_count": 17,
   "metadata": {},
   "outputs": [
    {
     "data": {
      "text/plain": [
       "<matplotlib.axes._subplots.AxesSubplot at 0x1dde2833a58>"
      ]
     },
     "execution_count": 17,
     "metadata": {},
     "output_type": "execute_result"
    },
    {
     "data": {
      "image/png": "[encoded data removed]",
      "text/plain": [
       "<Figure size 432x288 with 1 Axes>"
      ]
     },
     "metadata": {},
     "output_type": "display_data"
    }
   ],
   "source": [
    "date_ticks.plot()"
   ]
  },
  {
   "cell_type": "code",
   "execution_count": 18,
   "metadata": {},
   "outputs": [
    {
     "data": {
      "text/plain": [
       "<matplotlib.axes._subplots.AxesSubplot at 0x1dddf2a6588>"
      ]
     },
     "execution_count": 18,
     "metadata": {},
     "output_type": "execute_result"
    },
    {
     "data": {
      "image/png": "[encoded data removed]",
      "text/plain": [
       "<Figure size 432x288 with 1 Axes>"
      ]
     },
     "metadata": {},
     "output_type": "display_data"
    }
   ],
   "source": [
    "all_date_ticks.plot()"
   ]
  },
  {
   "cell_type": "code",
   "execution_count": 19,
   "metadata": {},
   "outputs": [
    {
     "data": {
      "text/plain": [
       "<matplotlib.axes._subplots.AxesSubplot at 0x1dde8454a20>"
      ]
     },
     "execution_count": 19,
     "metadata": {},
     "output_type": "execute_result"
    },
    {
     "data": {
      "image/png": "[encoded data removed]",
      "text/plain": [
       "<Figure size 432x288 with 1 Axes>"
      ]
     },
     "metadata": {},
     "output_type": "display_data"
    }
   ],
   "source": [
    "date_ticks.plot(style='o')"
   ]
  },
  {
   "cell_type": "code",
   "execution_count": 20,
   "metadata": {},
   "outputs": [],
   "source": [
    "vol_col = df_all_ticks['v']\n",
    "vol = 0\n",
    "vol_cutoff = 10_000\n",
    "idx = []\n",
    "for i, x in enumerate(vol_col):\n",
    "    vol += x\n",
    "    if vol >= vol_cutoff:\n",
    "        idx.append(i)\n",
    "        vol = 0\n",
    "\n",
    "df_vol = df_all_ticks.iloc[idx].drop_duplicates()"
   ]
  },
  {
   "cell_type": "code",
   "execution_count": 21,
   "metadata": {},
   "outputs": [
    {
     "data": {
      "text/plain": [
       "(48,)"
      ]
     },
     "execution_count": 21,
     "metadata": {},
     "output_type": "execute_result"
    }
   ],
   "source": [
    "date = '2009-10-01'\n",
    "date_vols = df_vol['price'].loc[date]\n",
    "date_vols.shape"
   ]
  },
  {
   "cell_type": "code",
   "execution_count": 22,
   "metadata": {},
   "outputs": [
    {
     "data": {
      "text/plain": [
       "<matplotlib.axes._subplots.AxesSubplot at 0x1ddf0dba828>"
      ]
     },
     "execution_count": 22,
     "metadata": {},
     "output_type": "execute_result"
    },
    {
     "data": {
      "image/png": "[encoded data removed]",
      "text/plain": [
       "<Figure size 432x288 with 1 Axes>"
      ]
     },
     "metadata": {},
     "output_type": "display_data"
    }
   ],
   "source": [
    "date_vols.plot()"
   ]
  },
  {
   "cell_type": "code",
   "execution_count": 23,
   "metadata": {},
   "outputs": [
    {
     "data": {
      "text/plain": [
       "<matplotlib.axes._subplots.AxesSubplot at 0x1ddf06254e0>"
      ]
     },
     "execution_count": 23,
     "metadata": {},
     "output_type": "execute_result"
    },
    {
     "data": {
      "image/png": "[encoded data removed]",
      "text/plain": [
       "<Figure size 432x288 with 1 Axes>"
      ]
     },
     "metadata": {},
     "output_type": "display_data"
    }
   ],
   "source": [
    "date_vols.plot(style='o')"
   ]
  },
  {
   "cell_type": "code",
   "execution_count": 24,
   "metadata": {},
   "outputs": [],
   "source": [
    "dol_col = df_all_ticks['dv']\n",
    "dol = 0\n",
    "dol_cutoff = 1_000_000\n",
    "idx = []\n",
    "for i, x in enumerate(dol_col):\n",
    "    dol += x\n",
    "    if dol >= dol_cutoff:\n",
    "        idx.append(i)\n",
    "        dol = 0\n",
    "\n",
    "df_dol = df_all_ticks.iloc[idx].drop_duplicates()"
   ]
  },
  {
   "cell_type": "code",
   "execution_count": 25,
   "metadata": {},
   "outputs": [
    {
     "data": {
      "text/plain": [
       "(26,)"
      ]
     },
     "execution_count": 25,
     "metadata": {},
     "output_type": "execute_result"
    }
   ],
   "source": [
    "date = '2009-10-01'\n",
    "date_dols = df_dol['price'].loc[date]\n",
    "date_dols.shape"
   ]
  },
  {
   "cell_type": "code",
   "execution_count": 26,
   "metadata": {},
   "outputs": [
    {
     "data": {
      "text/plain": [
       "<matplotlib.axes._subplots.AxesSubplot at 0x1ddefe750f0>"
      ]
     },
     "execution_count": 26,
     "metadata": {},
     "output_type": "execute_result"
    },
    {
     "data": {
      "image/png": "[encoded data removed]",
      "text/plain": [
       "<Figure size 432x288 with 1 Axes>"
      ]
     },
     "metadata": {},
     "output_type": "display_data"
    }
   ],
   "source": [
    "date_dols.plot()"
   ]
  },
  {
   "cell_type": "code",
   "execution_count": 27,
   "metadata": {},
   "outputs": [
    {
     "data": {
      "text/plain": [
       "<matplotlib.axes._subplots.AxesSubplot at 0x1dd8b31eac8>"
      ]
     },
     "execution_count": 27,
     "metadata": {},
     "output_type": "execute_result"
    },
    {
     "data": {
      "image/png": "[encoded data removed]",
      "text/plain": [
       "<Figure size 432x288 with 1 Axes>"
      ]
     },
     "metadata": {},
     "output_type": "display_data"
    }
   ],
   "source": [
    "date_dols.plot(style='o')"
   ]
  },
  {
   "cell_type": "code",
   "execution_count": 28,
   "metadata": {},
   "outputs": [
    {
     "data": {
      "text/plain": [
       "<matplotlib.axes._subplots.AxesSubplot at 0x1dded862e48>"
      ]
     },
     "execution_count": 28,
     "metadata": {},
     "output_type": "execute_result"
    },
    {
     "data": {
      "image/png": "[encoded data removed]",
      "text/plain": [
       "<Figure size 432x288 with 1 Axes>"
      ]
     },
     "metadata": {},
     "output_type": "display_data"
    }
   ],
   "source": [
    "df_dol['price'].plot()"
   ]
  },
  {
   "cell_type": "code",
   "execution_count": 67,
   "metadata": {},
   "outputs": [
    {
     "name": "stderr",
     "output_type": "stream",
     "text": [
      "C:\\Users\\mlevy\\Anaconda3\\lib\\site-packages\\ipykernel_launcher.py:2: FutureWarning: pd.TimeGrouper is deprecated and will be removed; Please use pd.Grouper(freq=...)\n",
      "  \n",
      "C:\\Users\\mlevy\\Anaconda3\\lib\\site-packages\\ipykernel_launcher.py:3: FutureWarning: pd.TimeGrouper is deprecated and will be removed; Please use pd.Grouper(freq=...)\n",
      "  This is separate from the ipykernel package so we can avoid doing imports until\n",
      "C:\\Users\\mlevy\\Anaconda3\\lib\\site-packages\\ipykernel_launcher.py:4: FutureWarning: pd.TimeGrouper is deprecated and will be removed; Please use pd.Grouper(freq=...)\n",
      "  after removing the cwd from sys.path.\n",
      "C:\\Users\\mlevy\\Anaconda3\\lib\\site-packages\\ipykernel_launcher.py:5: FutureWarning: pd.TimeGrouper is deprecated and will be removed; Please use pd.Grouper(freq=...)\n",
      "  \"\"\"\n"
     ]
    }
   ],
   "source": [
    "# Analyze bars 2.1b\n",
    "tick_count = df_tick.groupby(pd.TimeGrouper('1W'))['price'].count()\n",
    "vol_count = df_vol.groupby(pd.TimeGrouper('1W'))['price'].count()\n",
    "dol_count = df_dol.groupby(pd.TimeGrouper('1W'))['price'].count()\n",
    "df_all_count = df_all_ticks.groupby(pd.TimeGrouper('1W'))['price'].count()"
   ]
  },
  {
   "cell_type": "code",
   "execution_count": 68,
   "metadata": {},
   "outputs": [],
   "source": [
    "# Scale to range of 0,1\n",
    "tc = (tick_count - tick_count.min())/(tick_count.max() - tick_count.min())\n",
    "vc = (vol_count - vol_count.min())/(vol_count.max() - vol_count.min())\n",
    "dc = (dol_count - dol_count.min())/(dol_count.max() - dol_count.min())\n",
    "dfc = (df_all_count - df_all_count.min())/(df_all_count.max() - df_all_count.min())"
   ]
  },
  {
   "cell_type": "code",
   "execution_count": 64,
   "metadata": {},
   "outputs": [
    {
     "data": {
      "text/plain": [
       "<matplotlib.legend.Legend at 0x1dd80f2d550>"
      ]
     },
     "execution_count": 64,
     "metadata": {},
     "output_type": "execute_result"
    },
    {
     "data": {
      "image/png": "[encoded data removed]",
      "text/plain": [
       "<Figure size 720x504 with 1 Axes>"
      ]
     },
     "metadata": {},
     "output_type": "display_data"
    }
   ],
   "source": [
    "# Plot time series of count\n",
    "f,ax=plt.subplots(figsize=(10,7))\n",
    "tc.plot(ax=ax, label='tick count')\n",
    "vc.plot(ax=ax, label='volume count')\n",
    "dc.plot(ax=ax, label='dollar count')\n",
    "ax.legend()"
   ]
  },
  {
   "cell_type": "code",
   "execution_count": 83,
   "metadata": {},
   "outputs": [
    {
     "data": {
      "text/plain": [
       "vol          0.095049\n",
       "tick         0.097791\n",
       "all_ticks    0.097945\n",
       "dol          0.103696\n",
       "dtype: float64"
      ]
     },
     "execution_count": 83,
     "metadata": {},
     "output_type": "execute_result"
    }
   ],
   "source": [
    "# Stability count\n",
    "names = ['tick', 'vol', 'dol', 'all_ticks']\n",
    "count = pd.Series([tc.std(), vc.std(), dc.std(), dfc.std()], index=names)\n",
    "count.sort_values()"
   ]
  },
  {
   "cell_type": "code",
   "execution_count": 82,
   "metadata": {},
   "outputs": [],
   "source": [
    "# Serial Correlation\n",
    "t_ret = pd.Series(np.diff(np.log(df_tick.price)), index=df_tick.price.index[1:])\n",
    "vol_ret = pd.Series(np.diff(np.log(df_vol.price)), index=df_vol.price.index[1:])\n",
    "dol_ret = pd.Series(np.diff(np.log(df_dol.price)), index=df_dol.price.index[1:])\n",
    "df_ret = pd.Series(np.diff(np.log(df_all_ticks.price)), index=df_all_ticks.price.index[1:])"
   ]
  },
  {
   "cell_type": "code",
   "execution_count": 88,
   "metadata": {},
   "outputs": [
    {
     "data": {
      "text/html": [
       "<div>\n",
       "<style scoped>\n",
       "    .dataframe tbody tr th:only-of-type {\n",
       "        vertical-align: middle;\n",
       "    }\n",
       "\n",
       "    .dataframe tbody tr th {\n",
       "        vertical-align: top;\n",
       "    }\n",
       "\n",
       "    .dataframe thead th {\n",
       "        text-align: right;\n",
       "    }\n",
       "</style>\n",
       "<table border=\"1\" class=\"dataframe\">\n",
       "  <thead>\n",
       "    <tr style=\"text-align: right;\">\n",
       "      <th></th>\n",
       "      <th>0</th>\n",
       "      <th>1</th>\n",
       "    </tr>\n",
       "  </thead>\n",
       "  <tbody>\n",
       "    <tr>\n",
       "      <th>vol</th>\n",
       "      <td>67354.0</td>\n",
       "      <td>0.017051</td>\n",
       "    </tr>\n",
       "    <tr>\n",
       "      <th>tick</th>\n",
       "      <td>15879.0</td>\n",
       "      <td>0.040413</td>\n",
       "    </tr>\n",
       "    <tr>\n",
       "      <th>all_ticks</th>\n",
       "      <td>1587981.0</td>\n",
       "      <td>0.092742</td>\n",
       "    </tr>\n",
       "    <tr>\n",
       "      <th>dol</th>\n",
       "      <td>58287.0</td>\n",
       "      <td>0.118386</td>\n",
       "    </tr>\n",
       "  </tbody>\n",
       "</table>\n",
       "</div>"
      ],
      "text/plain": [
       "                   0         1\n",
       "vol          67354.0  0.017051\n",
       "tick         15879.0  0.040413\n",
       "all_ticks  1587981.0  0.092742\n",
       "dol          58287.0  0.118386"
      ]
     },
     "execution_count": 88,
     "metadata": {},
     "output_type": "execute_result"
    }
   ],
   "source": [
    "rets = [t_ret, vol_ret, dol_ret, df_ret]\n",
    "data = {}\n",
    "for b, br in zip(names, rets):\n",
    "    data[b] = (br.shape[0], pd.Series.autocorr(br))\n",
    "\n",
    "acorr_df = pd.DataFrame.from_dict(data).T\n",
    "acorr_df.abs().sort_values(1)"
   ]
  },
  {
   "cell_type": "code",
   "execution_count": 94,
   "metadata": {},
   "outputs": [],
   "source": [
    "# Variance of returns\n",
    "t_ret_var = t_ret.resample('1M').var()\n",
    "vol_ret_var = vol_ret.resample('1M').var()\n",
    "dol_ret_var = dol_ret.resample('1M').var()\n",
    "df_ret_var = df_ret.resample('1M').var()"
   ]
  },
  {
   "cell_type": "code",
   "execution_count": 95,
   "metadata": {},
   "outputs": [
    {
     "data": {
      "text/html": [
       "<div>\n",
       "<style scoped>\n",
       "    .dataframe tbody tr th:only-of-type {\n",
       "        vertical-align: middle;\n",
       "    }\n",
       "\n",
       "    .dataframe tbody tr th {\n",
       "        vertical-align: top;\n",
       "    }\n",
       "\n",
       "    .dataframe thead th {\n",
       "        text-align: right;\n",
       "    }\n",
       "</style>\n",
       "<table border=\"1\" class=\"dataframe\">\n",
       "  <thead>\n",
       "    <tr style=\"text-align: right;\">\n",
       "      <th></th>\n",
       "      <th>0</th>\n",
       "      <th>1</th>\n",
       "    </tr>\n",
       "  </thead>\n",
       "  <tbody>\n",
       "    <tr>\n",
       "      <th>all_ticks</th>\n",
       "      <td>116.0</td>\n",
       "      <td>5.026459e-12</td>\n",
       "    </tr>\n",
       "    <tr>\n",
       "      <th>tick</th>\n",
       "      <td>116.0</td>\n",
       "      <td>1.556877e-09</td>\n",
       "    </tr>\n",
       "    <tr>\n",
       "      <th>dol</th>\n",
       "      <td>116.0</td>\n",
       "      <td>1.993346e-09</td>\n",
       "    </tr>\n",
       "    <tr>\n",
       "      <th>vol</th>\n",
       "      <td>116.0</td>\n",
       "      <td>2.571963e-09</td>\n",
       "    </tr>\n",
       "  </tbody>\n",
       "</table>\n",
       "</div>"
      ],
      "text/plain": [
       "               0             1\n",
       "all_ticks  116.0  5.026459e-12\n",
       "tick       116.0  1.556877e-09\n",
       "dol        116.0  1.993346e-09\n",
       "vol        116.0  2.571963e-09"
      ]
     },
     "execution_count": 95,
     "metadata": {},
     "output_type": "execute_result"
    }
   ],
   "source": [
    "month_vars = [t_ret_var, vol_ret_var, dol_ret_var, df_ret_var]\n",
    "data = {}\n",
    "for b, br in zip(names, month_vars):\n",
    "    data[b] = (br.shape[0], np.var(br))\n",
    "\n",
    "var_df = pd.DataFrame.from_dict(data).T\n",
    "var_df.sort_values(1)"
   ]
  },
  {
   "cell_type": "code",
   "execution_count": 100,
   "metadata": {},
   "outputs": [],
   "source": [
    "# Jarque-Bera test - Far from zero => not normally distributed\n",
    "def jarque_bera(x):\n",
    "    np.random.seed(73)\n",
    "    return stats.jarque_bera(x)[0]"
   ]
  },
  {
   "cell_type": "code",
   "execution_count": 103,
   "metadata": {},
   "outputs": [
    {
     "data": {
      "text/html": [
       "<div>\n",
       "<style scoped>\n",
       "    .dataframe tbody tr th:only-of-type {\n",
       "        vertical-align: middle;\n",
       "    }\n",
       "\n",
       "    .dataframe tbody tr th {\n",
       "        vertical-align: top;\n",
       "    }\n",
       "\n",
       "    .dataframe thead th {\n",
       "        text-align: right;\n",
       "    }\n",
       "</style>\n",
       "<table border=\"1\" class=\"dataframe\">\n",
       "  <thead>\n",
       "    <tr style=\"text-align: right;\">\n",
       "      <th></th>\n",
       "      <th>0</th>\n",
       "      <th>1</th>\n",
       "    </tr>\n",
       "  </thead>\n",
       "  <tbody>\n",
       "    <tr>\n",
       "      <th>tick</th>\n",
       "      <td>15879.0</td>\n",
       "      <td>8.454128e+07</td>\n",
       "    </tr>\n",
       "    <tr>\n",
       "      <th>dol</th>\n",
       "      <td>58287.0</td>\n",
       "      <td>7.132692e+10</td>\n",
       "    </tr>\n",
       "    <tr>\n",
       "      <th>vol</th>\n",
       "      <td>67354.0</td>\n",
       "      <td>4.182380e+11</td>\n",
       "    </tr>\n",
       "    <tr>\n",
       "      <th>all_ticks</th>\n",
       "      <td>1587981.0</td>\n",
       "      <td>2.677946e+14</td>\n",
       "    </tr>\n",
       "  </tbody>\n",
       "</table>\n",
       "</div>"
      ],
      "text/plain": [
       "                   0             1\n",
       "tick         15879.0  8.454128e+07\n",
       "dol          58287.0  7.132692e+10\n",
       "vol          67354.0  4.182380e+11\n",
       "all_ticks  1587981.0  2.677946e+14"
      ]
     },
     "execution_count": 103,
     "metadata": {},
     "output_type": "execute_result"
    }
   ],
   "source": [
    "data = {}\n",
    "for b, br in zip(names, rets):\n",
    "    data[b] = (br.shape[0], jarque_bera(br))\n",
    "\n",
    "jb_df = pd.DataFrame.from_dict(data).T\n",
    "jb_df.sort_values(1)"
   ]
  },
  {
   "cell_type": "code",
   "execution_count": 104,
   "metadata": {},
   "outputs": [],
   "source": [
    "# 2.2\n",
    "\n",
    "# Calc imbalance dollar bars\n",
    "def getImbalance(t):\n",
    "    bs = np.zeros_like(t)\n",
    "    for i in np.arange(1, bs.shape[0]):\n",
    "        t_bt = bt(t[i-1], t[i], bs[:i-1])\n",
    "        bs[i-1] = t_bt\n",
    "    return bs[:-1] # remove last value"
   ]
  },
  {
   "cell_type": "code",
   "execution_count": 126,
   "metadata": {},
   "outputs": [],
   "source": [
    "test_df = df_all_ticks[:10_000]"
   ]
  },
  {
   "cell_type": "code",
   "execution_count": 135,
   "metadata": {},
   "outputs": [
    {
     "name": "stdout",
     "output_type": "stream",
     "text": [
      "SAMPLE BRAH\n",
      "46\n",
      "SAMPLE BRAH\n",
      "63\n",
      "SAMPLE BRAH\n",
      "76\n",
      "SAMPLE BRAH\n",
      "203\n",
      "SAMPLE BRAH\n",
      "306\n",
      "SAMPLE BRAH\n",
      "353\n",
      "SAMPLE BRAH\n",
      "490\n",
      "SAMPLE BRAH\n",
      "521\n",
      "SAMPLE BRAH\n",
      "576\n",
      "SAMPLE BRAH\n",
      "589\n",
      "SAMPLE BRAH\n",
      "600\n",
      "SAMPLE BRAH\n",
      "623\n",
      "SAMPLE BRAH\n",
      "8914\n",
      "SAMPLE BRAH\n",
      "9253\n",
      "SAMPLE BRAH\n",
      "9338\n",
      "SAMPLE BRAH\n",
      "9363\n",
      "SAMPLE BRAH\n",
      "9520\n",
      "SAMPLE BRAH\n",
      "9577\n",
      "SAMPLE BRAH\n",
      "9814\n",
      "SAMPLE BRAH\n",
      "9917\n"
     ]
    }
   ],
   "source": [
    "p0 = None\n",
    "b = []\n",
    "bigT = 0\n",
    "thres = 10\n",
    "for i, tick in enumerate(test_df.iterrows()):\n",
    "    if p0 is None:\n",
    "        p0 = tick[1].price\n",
    "        b.append(1)\n",
    "    else:\n",
    "        if tick[1].price > p0:\n",
    "#             print('up')\n",
    "#             print(tick[1].dv)\n",
    "            b.append(1)\n",
    "        elif tick[1].price < p0:\n",
    "#             print('down')\n",
    "#             print(tick[1].dv * -1)\n",
    "            b.append(-1)\n",
    "        else:\n",
    "#             print('same')\n",
    "            b.append(b[-1])\n",
    "        p0 = tick[1].price\n",
    "    bigT += b[-1]\n",
    "    if bigT > thres:\n",
    "        print('SAMPLE BRAH')\n",
    "        bigT = 0\n",
    "#         print(tick)\n",
    "        print(i)"
   ]
  },
  {
   "cell_type": "code",
   "execution_count": 131,
   "metadata": {},
   "outputs": [
    {
     "data": {
      "text/html": [
       "<div>\n",
       "<style scoped>\n",
       "    .dataframe tbody tr th:only-of-type {\n",
       "        vertical-align: middle;\n",
       "    }\n",
       "\n",
       "    .dataframe tbody tr th {\n",
       "        vertical-align: top;\n",
       "    }\n",
       "\n",
       "    .dataframe thead th {\n",
       "        text-align: right;\n",
       "    }\n",
       "</style>\n",
       "<table border=\"1\" class=\"dataframe\">\n",
       "  <thead>\n",
       "    <tr style=\"text-align: right;\">\n",
       "      <th></th>\n",
       "      <th>price</th>\n",
       "      <th>bid</th>\n",
       "      <th>ask</th>\n",
       "      <th>size</th>\n",
       "      <th>v</th>\n",
       "      <th>dv</th>\n",
       "    </tr>\n",
       "    <tr>\n",
       "      <th>dates</th>\n",
       "      <th></th>\n",
       "      <th></th>\n",
       "      <th></th>\n",
       "      <th></th>\n",
       "      <th></th>\n",
       "      <th></th>\n",
       "    </tr>\n",
       "  </thead>\n",
       "  <tbody>\n",
       "    <tr>\n",
       "      <th>2009-09-28 09:30:00</th>\n",
       "      <td>50.7900</td>\n",
       "      <td>50.70</td>\n",
       "      <td>50.79</td>\n",
       "      <td>100</td>\n",
       "      <td>100</td>\n",
       "      <td>5079.0000</td>\n",
       "    </tr>\n",
       "    <tr>\n",
       "      <th>2009-09-28 09:30:00</th>\n",
       "      <td>50.7100</td>\n",
       "      <td>50.70</td>\n",
       "      <td>50.79</td>\n",
       "      <td>638</td>\n",
       "      <td>638</td>\n",
       "      <td>32352.9800</td>\n",
       "    </tr>\n",
       "    <tr>\n",
       "      <th>2009-09-28 09:31:32</th>\n",
       "      <td>50.7500</td>\n",
       "      <td>50.75</td>\n",
       "      <td>50.76</td>\n",
       "      <td>100</td>\n",
       "      <td>100</td>\n",
       "      <td>5075.0000</td>\n",
       "    </tr>\n",
       "    <tr>\n",
       "      <th>2009-09-28 09:31:33</th>\n",
       "      <td>50.7500</td>\n",
       "      <td>50.72</td>\n",
       "      <td>50.75</td>\n",
       "      <td>100</td>\n",
       "      <td>100</td>\n",
       "      <td>5075.0000</td>\n",
       "    </tr>\n",
       "    <tr>\n",
       "      <th>2009-09-28 09:31:50</th>\n",
       "      <td>50.7500</td>\n",
       "      <td>50.73</td>\n",
       "      <td>50.76</td>\n",
       "      <td>300</td>\n",
       "      <td>300</td>\n",
       "      <td>15225.0000</td>\n",
       "    </tr>\n",
       "    <tr>\n",
       "      <th>2009-09-28 09:31:51</th>\n",
       "      <td>50.7500</td>\n",
       "      <td>50.74</td>\n",
       "      <td>50.76</td>\n",
       "      <td>300</td>\n",
       "      <td>300</td>\n",
       "      <td>15225.0000</td>\n",
       "    </tr>\n",
       "    <tr>\n",
       "      <th>2009-09-28 09:32:06</th>\n",
       "      <td>50.7800</td>\n",
       "      <td>50.76</td>\n",
       "      <td>50.78</td>\n",
       "      <td>300</td>\n",
       "      <td>300</td>\n",
       "      <td>15234.0000</td>\n",
       "    </tr>\n",
       "    <tr>\n",
       "      <th>2009-09-28 09:32:06</th>\n",
       "      <td>50.7800</td>\n",
       "      <td>50.76</td>\n",
       "      <td>50.78</td>\n",
       "      <td>500</td>\n",
       "      <td>500</td>\n",
       "      <td>25390.0000</td>\n",
       "    </tr>\n",
       "    <tr>\n",
       "      <th>2009-09-28 09:32:06</th>\n",
       "      <td>50.7800</td>\n",
       "      <td>50.76</td>\n",
       "      <td>50.78</td>\n",
       "      <td>100</td>\n",
       "      <td>100</td>\n",
       "      <td>5078.0000</td>\n",
       "    </tr>\n",
       "    <tr>\n",
       "      <th>2009-09-28 09:32:56</th>\n",
       "      <td>50.8226</td>\n",
       "      <td>50.81</td>\n",
       "      <td>50.83</td>\n",
       "      <td>100</td>\n",
       "      <td>100</td>\n",
       "      <td>5082.2600</td>\n",
       "    </tr>\n",
       "    <tr>\n",
       "      <th>2009-09-28 09:33:02</th>\n",
       "      <td>50.8100</td>\n",
       "      <td>50.80</td>\n",
       "      <td>50.81</td>\n",
       "      <td>500</td>\n",
       "      <td>500</td>\n",
       "      <td>25405.0000</td>\n",
       "    </tr>\n",
       "    <tr>\n",
       "      <th>2009-09-28 09:33:02</th>\n",
       "      <td>50.8100</td>\n",
       "      <td>50.80</td>\n",
       "      <td>50.81</td>\n",
       "      <td>300</td>\n",
       "      <td>300</td>\n",
       "      <td>15243.0000</td>\n",
       "    </tr>\n",
       "    <tr>\n",
       "      <th>2009-09-28 09:33:08</th>\n",
       "      <td>50.8200</td>\n",
       "      <td>50.80</td>\n",
       "      <td>50.83</td>\n",
       "      <td>500</td>\n",
       "      <td>500</td>\n",
       "      <td>25410.0000</td>\n",
       "    </tr>\n",
       "    <tr>\n",
       "      <th>2009-09-28 09:33:08</th>\n",
       "      <td>50.8200</td>\n",
       "      <td>50.80</td>\n",
       "      <td>50.83</td>\n",
       "      <td>298</td>\n",
       "      <td>298</td>\n",
       "      <td>15144.3600</td>\n",
       "    </tr>\n",
       "    <tr>\n",
       "      <th>2009-09-28 09:33:35</th>\n",
       "      <td>50.8100</td>\n",
       "      <td>50.80</td>\n",
       "      <td>50.83</td>\n",
       "      <td>100</td>\n",
       "      <td>100</td>\n",
       "      <td>5081.0000</td>\n",
       "    </tr>\n",
       "    <tr>\n",
       "      <th>2009-09-28 09:33:54</th>\n",
       "      <td>50.8200</td>\n",
       "      <td>50.80</td>\n",
       "      <td>50.82</td>\n",
       "      <td>100</td>\n",
       "      <td>100</td>\n",
       "      <td>5082.0000</td>\n",
       "    </tr>\n",
       "    <tr>\n",
       "      <th>2009-09-28 09:33:54</th>\n",
       "      <td>50.8200</td>\n",
       "      <td>50.80</td>\n",
       "      <td>50.82</td>\n",
       "      <td>400</td>\n",
       "      <td>400</td>\n",
       "      <td>20328.0000</td>\n",
       "    </tr>\n",
       "    <tr>\n",
       "      <th>2009-09-28 09:34:58</th>\n",
       "      <td>50.8000</td>\n",
       "      <td>50.78</td>\n",
       "      <td>50.80</td>\n",
       "      <td>100</td>\n",
       "      <td>100</td>\n",
       "      <td>5080.0000</td>\n",
       "    </tr>\n",
       "    <tr>\n",
       "      <th>2009-09-28 09:34:58</th>\n",
       "      <td>50.8000</td>\n",
       "      <td>50.78</td>\n",
       "      <td>50.80</td>\n",
       "      <td>200</td>\n",
       "      <td>200</td>\n",
       "      <td>10160.0000</td>\n",
       "    </tr>\n",
       "    <tr>\n",
       "      <th>2009-09-28 09:36:32</th>\n",
       "      <td>50.8500</td>\n",
       "      <td>50.84</td>\n",
       "      <td>50.86</td>\n",
       "      <td>300</td>\n",
       "      <td>300</td>\n",
       "      <td>15255.0000</td>\n",
       "    </tr>\n",
       "    <tr>\n",
       "      <th>2009-09-28 09:37:22</th>\n",
       "      <td>50.8340</td>\n",
       "      <td>50.83</td>\n",
       "      <td>50.85</td>\n",
       "      <td>200</td>\n",
       "      <td>200</td>\n",
       "      <td>10166.8000</td>\n",
       "    </tr>\n",
       "    <tr>\n",
       "      <th>2009-09-28 09:37:29</th>\n",
       "      <td>50.8200</td>\n",
       "      <td>50.82</td>\n",
       "      <td>50.84</td>\n",
       "      <td>400</td>\n",
       "      <td>400</td>\n",
       "      <td>20328.0000</td>\n",
       "    </tr>\n",
       "    <tr>\n",
       "      <th>2009-09-28 09:37:29</th>\n",
       "      <td>50.8200</td>\n",
       "      <td>50.81</td>\n",
       "      <td>50.84</td>\n",
       "      <td>300</td>\n",
       "      <td>300</td>\n",
       "      <td>15246.0000</td>\n",
       "    </tr>\n",
       "    <tr>\n",
       "      <th>2009-09-28 09:37:33</th>\n",
       "      <td>50.8299</td>\n",
       "      <td>50.80</td>\n",
       "      <td>50.83</td>\n",
       "      <td>166</td>\n",
       "      <td>166</td>\n",
       "      <td>8437.7634</td>\n",
       "    </tr>\n",
       "    <tr>\n",
       "      <th>2009-09-28 09:38:28</th>\n",
       "      <td>50.8100</td>\n",
       "      <td>50.79</td>\n",
       "      <td>50.81</td>\n",
       "      <td>195</td>\n",
       "      <td>195</td>\n",
       "      <td>9907.9500</td>\n",
       "    </tr>\n",
       "    <tr>\n",
       "      <th>2009-09-28 09:38:32</th>\n",
       "      <td>50.8100</td>\n",
       "      <td>50.80</td>\n",
       "      <td>50.82</td>\n",
       "      <td>300</td>\n",
       "      <td>300</td>\n",
       "      <td>15243.0000</td>\n",
       "    </tr>\n",
       "    <tr>\n",
       "      <th>2009-09-28 09:38:32</th>\n",
       "      <td>50.8100</td>\n",
       "      <td>50.80</td>\n",
       "      <td>50.82</td>\n",
       "      <td>400</td>\n",
       "      <td>400</td>\n",
       "      <td>20324.0000</td>\n",
       "    </tr>\n",
       "    <tr>\n",
       "      <th>2009-09-28 09:38:32</th>\n",
       "      <td>50.8100</td>\n",
       "      <td>50.81</td>\n",
       "      <td>50.82</td>\n",
       "      <td>300</td>\n",
       "      <td>300</td>\n",
       "      <td>15243.0000</td>\n",
       "    </tr>\n",
       "    <tr>\n",
       "      <th>2009-09-28 09:40:00</th>\n",
       "      <td>50.8100</td>\n",
       "      <td>50.78</td>\n",
       "      <td>50.81</td>\n",
       "      <td>157</td>\n",
       "      <td>157</td>\n",
       "      <td>7977.1700</td>\n",
       "    </tr>\n",
       "    <tr>\n",
       "      <th>2009-09-28 09:40:03</th>\n",
       "      <td>50.8000</td>\n",
       "      <td>50.79</td>\n",
       "      <td>50.81</td>\n",
       "      <td>100</td>\n",
       "      <td>100</td>\n",
       "      <td>5080.0000</td>\n",
       "    </tr>\n",
       "    <tr>\n",
       "      <th>...</th>\n",
       "      <td>...</td>\n",
       "      <td>...</td>\n",
       "      <td>...</td>\n",
       "      <td>...</td>\n",
       "      <td>...</td>\n",
       "      <td>...</td>\n",
       "    </tr>\n",
       "    <tr>\n",
       "      <th>2009-10-14 09:38:52</th>\n",
       "      <td>52.5525</td>\n",
       "      <td>52.55</td>\n",
       "      <td>52.56</td>\n",
       "      <td>160</td>\n",
       "      <td>160</td>\n",
       "      <td>8408.4000</td>\n",
       "    </tr>\n",
       "    <tr>\n",
       "      <th>2009-10-14 09:39:07</th>\n",
       "      <td>52.5500</td>\n",
       "      <td>52.54</td>\n",
       "      <td>52.56</td>\n",
       "      <td>100</td>\n",
       "      <td>100</td>\n",
       "      <td>5255.0000</td>\n",
       "    </tr>\n",
       "    <tr>\n",
       "      <th>2009-10-14 09:39:07</th>\n",
       "      <td>52.5400</td>\n",
       "      <td>52.53</td>\n",
       "      <td>52.56</td>\n",
       "      <td>100</td>\n",
       "      <td>100</td>\n",
       "      <td>5254.0000</td>\n",
       "    </tr>\n",
       "    <tr>\n",
       "      <th>2009-10-14 09:39:49</th>\n",
       "      <td>52.5300</td>\n",
       "      <td>52.52</td>\n",
       "      <td>52.54</td>\n",
       "      <td>100</td>\n",
       "      <td>100</td>\n",
       "      <td>5253.0000</td>\n",
       "    </tr>\n",
       "    <tr>\n",
       "      <th>2009-10-14 09:40:01</th>\n",
       "      <td>52.5400</td>\n",
       "      <td>52.53</td>\n",
       "      <td>52.55</td>\n",
       "      <td>100</td>\n",
       "      <td>100</td>\n",
       "      <td>5254.0000</td>\n",
       "    </tr>\n",
       "    <tr>\n",
       "      <th>2009-10-14 09:40:01</th>\n",
       "      <td>52.5300</td>\n",
       "      <td>52.53</td>\n",
       "      <td>52.55</td>\n",
       "      <td>200</td>\n",
       "      <td>200</td>\n",
       "      <td>10506.0000</td>\n",
       "    </tr>\n",
       "    <tr>\n",
       "      <th>2009-10-14 09:40:16</th>\n",
       "      <td>52.5500</td>\n",
       "      <td>52.54</td>\n",
       "      <td>52.56</td>\n",
       "      <td>179</td>\n",
       "      <td>179</td>\n",
       "      <td>9406.4500</td>\n",
       "    </tr>\n",
       "    <tr>\n",
       "      <th>2009-10-14 09:40:22</th>\n",
       "      <td>52.5400</td>\n",
       "      <td>52.54</td>\n",
       "      <td>52.56</td>\n",
       "      <td>500</td>\n",
       "      <td>500</td>\n",
       "      <td>26270.0000</td>\n",
       "    </tr>\n",
       "    <tr>\n",
       "      <th>2009-10-14 09:40:23</th>\n",
       "      <td>52.5400</td>\n",
       "      <td>52.53</td>\n",
       "      <td>52.56</td>\n",
       "      <td>500</td>\n",
       "      <td>500</td>\n",
       "      <td>26270.0000</td>\n",
       "    </tr>\n",
       "    <tr>\n",
       "      <th>2009-10-14 09:40:54</th>\n",
       "      <td>52.5360</td>\n",
       "      <td>52.53</td>\n",
       "      <td>52.56</td>\n",
       "      <td>322</td>\n",
       "      <td>322</td>\n",
       "      <td>16916.5920</td>\n",
       "    </tr>\n",
       "    <tr>\n",
       "      <th>2009-10-14 09:42:11</th>\n",
       "      <td>52.5200</td>\n",
       "      <td>52.52</td>\n",
       "      <td>52.54</td>\n",
       "      <td>200</td>\n",
       "      <td>200</td>\n",
       "      <td>10504.0000</td>\n",
       "    </tr>\n",
       "    <tr>\n",
       "      <th>2009-10-14 09:43:15</th>\n",
       "      <td>52.5500</td>\n",
       "      <td>52.53</td>\n",
       "      <td>52.55</td>\n",
       "      <td>200</td>\n",
       "      <td>200</td>\n",
       "      <td>10510.0000</td>\n",
       "    </tr>\n",
       "    <tr>\n",
       "      <th>2009-10-14 09:43:15</th>\n",
       "      <td>52.5500</td>\n",
       "      <td>52.53</td>\n",
       "      <td>52.55</td>\n",
       "      <td>100</td>\n",
       "      <td>100</td>\n",
       "      <td>5255.0000</td>\n",
       "    </tr>\n",
       "    <tr>\n",
       "      <th>2009-10-14 09:43:51</th>\n",
       "      <td>52.5700</td>\n",
       "      <td>52.55</td>\n",
       "      <td>52.57</td>\n",
       "      <td>400</td>\n",
       "      <td>400</td>\n",
       "      <td>21028.0000</td>\n",
       "    </tr>\n",
       "    <tr>\n",
       "      <th>2009-10-14 09:43:51</th>\n",
       "      <td>52.5700</td>\n",
       "      <td>52.55</td>\n",
       "      <td>52.57</td>\n",
       "      <td>100</td>\n",
       "      <td>100</td>\n",
       "      <td>5257.0000</td>\n",
       "    </tr>\n",
       "    <tr>\n",
       "      <th>2009-10-14 09:43:51</th>\n",
       "      <td>52.5700</td>\n",
       "      <td>52.55</td>\n",
       "      <td>52.57</td>\n",
       "      <td>300</td>\n",
       "      <td>300</td>\n",
       "      <td>15771.0000</td>\n",
       "    </tr>\n",
       "    <tr>\n",
       "      <th>2009-10-14 09:43:53</th>\n",
       "      <td>52.5500</td>\n",
       "      <td>52.55</td>\n",
       "      <td>52.57</td>\n",
       "      <td>100</td>\n",
       "      <td>100</td>\n",
       "      <td>5255.0000</td>\n",
       "    </tr>\n",
       "    <tr>\n",
       "      <th>2009-10-14 09:44:39</th>\n",
       "      <td>52.5900</td>\n",
       "      <td>52.57</td>\n",
       "      <td>52.59</td>\n",
       "      <td>200</td>\n",
       "      <td>200</td>\n",
       "      <td>10518.0000</td>\n",
       "    </tr>\n",
       "    <tr>\n",
       "      <th>2009-10-14 09:44:51</th>\n",
       "      <td>52.5800</td>\n",
       "      <td>52.57</td>\n",
       "      <td>52.58</td>\n",
       "      <td>100</td>\n",
       "      <td>100</td>\n",
       "      <td>5258.0000</td>\n",
       "    </tr>\n",
       "    <tr>\n",
       "      <th>2009-10-14 09:45:00</th>\n",
       "      <td>52.5600</td>\n",
       "      <td>52.56</td>\n",
       "      <td>52.58</td>\n",
       "      <td>200</td>\n",
       "      <td>200</td>\n",
       "      <td>10512.0000</td>\n",
       "    </tr>\n",
       "    <tr>\n",
       "      <th>2009-10-14 09:45:00</th>\n",
       "      <td>52.5600</td>\n",
       "      <td>52.55</td>\n",
       "      <td>52.58</td>\n",
       "      <td>200</td>\n",
       "      <td>200</td>\n",
       "      <td>10512.0000</td>\n",
       "    </tr>\n",
       "    <tr>\n",
       "      <th>2009-10-14 09:45:00</th>\n",
       "      <td>52.5600</td>\n",
       "      <td>52.55</td>\n",
       "      <td>52.58</td>\n",
       "      <td>100</td>\n",
       "      <td>100</td>\n",
       "      <td>5256.0000</td>\n",
       "    </tr>\n",
       "    <tr>\n",
       "      <th>2009-10-14 09:45:03</th>\n",
       "      <td>52.5400</td>\n",
       "      <td>52.53</td>\n",
       "      <td>52.56</td>\n",
       "      <td>200</td>\n",
       "      <td>200</td>\n",
       "      <td>10508.0000</td>\n",
       "    </tr>\n",
       "    <tr>\n",
       "      <th>2009-10-14 09:45:16</th>\n",
       "      <td>52.5100</td>\n",
       "      <td>52.51</td>\n",
       "      <td>52.52</td>\n",
       "      <td>100</td>\n",
       "      <td>100</td>\n",
       "      <td>5251.0000</td>\n",
       "    </tr>\n",
       "    <tr>\n",
       "      <th>2009-10-14 09:45:16</th>\n",
       "      <td>52.5100</td>\n",
       "      <td>52.50</td>\n",
       "      <td>52.52</td>\n",
       "      <td>100</td>\n",
       "      <td>100</td>\n",
       "      <td>5251.0000</td>\n",
       "    </tr>\n",
       "    <tr>\n",
       "      <th>2009-10-14 09:45:22</th>\n",
       "      <td>52.4900</td>\n",
       "      <td>52.49</td>\n",
       "      <td>52.51</td>\n",
       "      <td>100</td>\n",
       "      <td>100</td>\n",
       "      <td>5249.0000</td>\n",
       "    </tr>\n",
       "    <tr>\n",
       "      <th>2009-10-14 09:45:22</th>\n",
       "      <td>52.4900</td>\n",
       "      <td>52.49</td>\n",
       "      <td>52.51</td>\n",
       "      <td>400</td>\n",
       "      <td>400</td>\n",
       "      <td>20996.0000</td>\n",
       "    </tr>\n",
       "    <tr>\n",
       "      <th>2009-10-14 09:45:48</th>\n",
       "      <td>52.5200</td>\n",
       "      <td>52.51</td>\n",
       "      <td>52.53</td>\n",
       "      <td>100</td>\n",
       "      <td>100</td>\n",
       "      <td>5252.0000</td>\n",
       "    </tr>\n",
       "    <tr>\n",
       "      <th>2009-10-14 09:45:49</th>\n",
       "      <td>52.5300</td>\n",
       "      <td>52.51</td>\n",
       "      <td>52.53</td>\n",
       "      <td>100</td>\n",
       "      <td>100</td>\n",
       "      <td>5253.0000</td>\n",
       "    </tr>\n",
       "    <tr>\n",
       "      <th>2009-10-14 09:45:49</th>\n",
       "      <td>52.5300</td>\n",
       "      <td>52.52</td>\n",
       "      <td>52.53</td>\n",
       "      <td>100</td>\n",
       "      <td>100</td>\n",
       "      <td>5253.0000</td>\n",
       "    </tr>\n",
       "  </tbody>\n",
       "</table>\n",
       "<p>10000 rows × 6 columns</p>\n",
       "</div>"
      ],
      "text/plain": [
       "                       price    bid    ask  size    v          dv\n",
       "dates                                                            \n",
       "2009-09-28 09:30:00  50.7900  50.70  50.79   100  100   5079.0000\n",
       "2009-09-28 09:30:00  50.7100  50.70  50.79   638  638  32352.9800\n",
       "2009-09-28 09:31:32  50.7500  50.75  50.76   100  100   5075.0000\n",
       "2009-09-28 09:31:33  50.7500  50.72  50.75   100  100   5075.0000\n",
       "2009-09-28 09:31:50  50.7500  50.73  50.76   300  300  15225.0000\n",
       "2009-09-28 09:31:51  50.7500  50.74  50.76   300  300  15225.0000\n",
       "2009-09-28 09:32:06  50.7800  50.76  50.78   300  300  15234.0000\n",
       "2009-09-28 09:32:06  50.7800  50.76  50.78   500  500  25390.0000\n",
       "2009-09-28 09:32:06  50.7800  50.76  50.78   100  100   5078.0000\n",
       "2009-09-28 09:32:56  50.8226  50.81  50.83   100  100   5082.2600\n",
       "2009-09-28 09:33:02  50.8100  50.80  50.81   500  500  25405.0000\n",
       "2009-09-28 09:33:02  50.8100  50.80  50.81   300  300  15243.0000\n",
       "2009-09-28 09:33:08  50.8200  50.80  50.83   500  500  25410.0000\n",
       "2009-09-28 09:33:08  50.8200  50.80  50.83   298  298  15144.3600\n",
       "2009-09-28 09:33:35  50.8100  50.80  50.83   100  100   5081.0000\n",
       "2009-09-28 09:33:54  50.8200  50.80  50.82   100  100   5082.0000\n",
       "2009-09-28 09:33:54  50.8200  50.80  50.82   400  400  20328.0000\n",
       "2009-09-28 09:34:58  50.8000  50.78  50.80   100  100   5080.0000\n",
       "2009-09-28 09:34:58  50.8000  50.78  50.80   200  200  10160.0000\n",
       "2009-09-28 09:36:32  50.8500  50.84  50.86   300  300  15255.0000\n",
       "2009-09-28 09:37:22  50.8340  50.83  50.85   200  200  10166.8000\n",
       "2009-09-28 09:37:29  50.8200  50.82  50.84   400  400  20328.0000\n",
       "2009-09-28 09:37:29  50.8200  50.81  50.84   300  300  15246.0000\n",
       "2009-09-28 09:37:33  50.8299  50.80  50.83   166  166   8437.7634\n",
       "2009-09-28 09:38:28  50.8100  50.79  50.81   195  195   9907.9500\n",
       "2009-09-28 09:38:32  50.8100  50.80  50.82   300  300  15243.0000\n",
       "2009-09-28 09:38:32  50.8100  50.80  50.82   400  400  20324.0000\n",
       "2009-09-28 09:38:32  50.8100  50.81  50.82   300  300  15243.0000\n",
       "2009-09-28 09:40:00  50.8100  50.78  50.81   157  157   7977.1700\n",
       "2009-09-28 09:40:03  50.8000  50.79  50.81   100  100   5080.0000\n",
       "...                      ...    ...    ...   ...  ...         ...\n",
       "2009-10-14 09:38:52  52.5525  52.55  52.56   160  160   8408.4000\n",
       "2009-10-14 09:39:07  52.5500  52.54  52.56   100  100   5255.0000\n",
       "2009-10-14 09:39:07  52.5400  52.53  52.56   100  100   5254.0000\n",
       "2009-10-14 09:39:49  52.5300  52.52  52.54   100  100   5253.0000\n",
       "2009-10-14 09:40:01  52.5400  52.53  52.55   100  100   5254.0000\n",
       "2009-10-14 09:40:01  52.5300  52.53  52.55   200  200  10506.0000\n",
       "2009-10-14 09:40:16  52.5500  52.54  52.56   179  179   9406.4500\n",
       "2009-10-14 09:40:22  52.5400  52.54  52.56   500  500  26270.0000\n",
       "2009-10-14 09:40:23  52.5400  52.53  52.56   500  500  26270.0000\n",
       "2009-10-14 09:40:54  52.5360  52.53  52.56   322  322  16916.5920\n",
       "2009-10-14 09:42:11  52.5200  52.52  52.54   200  200  10504.0000\n",
       "2009-10-14 09:43:15  52.5500  52.53  52.55   200  200  10510.0000\n",
       "2009-10-14 09:43:15  52.5500  52.53  52.55   100  100   5255.0000\n",
       "2009-10-14 09:43:51  52.5700  52.55  52.57   400  400  21028.0000\n",
       "2009-10-14 09:43:51  52.5700  52.55  52.57   100  100   5257.0000\n",
       "2009-10-14 09:43:51  52.5700  52.55  52.57   300  300  15771.0000\n",
       "2009-10-14 09:43:53  52.5500  52.55  52.57   100  100   5255.0000\n",
       "2009-10-14 09:44:39  52.5900  52.57  52.59   200  200  10518.0000\n",
       "2009-10-14 09:44:51  52.5800  52.57  52.58   100  100   5258.0000\n",
       "2009-10-14 09:45:00  52.5600  52.56  52.58   200  200  10512.0000\n",
       "2009-10-14 09:45:00  52.5600  52.55  52.58   200  200  10512.0000\n",
       "2009-10-14 09:45:00  52.5600  52.55  52.58   100  100   5256.0000\n",
       "2009-10-14 09:45:03  52.5400  52.53  52.56   200  200  10508.0000\n",
       "2009-10-14 09:45:16  52.5100  52.51  52.52   100  100   5251.0000\n",
       "2009-10-14 09:45:16  52.5100  52.50  52.52   100  100   5251.0000\n",
       "2009-10-14 09:45:22  52.4900  52.49  52.51   100  100   5249.0000\n",
       "2009-10-14 09:45:22  52.4900  52.49  52.51   400  400  20996.0000\n",
       "2009-10-14 09:45:48  52.5200  52.51  52.53   100  100   5252.0000\n",
       "2009-10-14 09:45:49  52.5300  52.51  52.53   100  100   5253.0000\n",
       "2009-10-14 09:45:49  52.5300  52.52  52.53   100  100   5253.0000\n",
       "\n",
       "[10000 rows x 6 columns]"
      ]
     },
     "execution_count": 131,
     "metadata": {},
     "output_type": "execute_result"
    }
   ],
   "source": [
    "test_df"
   ]
  },
  {
   "cell_type": "code",
   "execution_count": 5,
   "metadata": {},
   "outputs": [
    {
     "data": {
      "text/plain": [
       "PureWindowsPath('data/IVE_tickbidask.csv')"
      ]
     },
     "execution_count": 5,
     "metadata": {},
     "output_type": "execute_result"
    }
   ],
   "source": [
    "data = PurePath('data/IVE_tickbidask.csv')\n"
   ]
  },
  {
   "cell_type": "code",
   "execution_count": 8,
   "metadata": {},
   "outputs": [],
   "source": [
    "pre, ext = os.path.splitext(data)"
   ]
  },
  {
   "cell_type": "code",
   "execution_count": 7,
   "metadata": {},
   "outputs": [],
   "source": [
    "import os"
   ]
  },
  {
   "cell_type": "code",
   "execution_count": 9,
   "metadata": {},
   "outputs": [
    {
     "data": {
      "text/plain": [
       "'data\\\\IVE_tickbidask'"
      ]
     },
     "execution_count": 9,
     "metadata": {},
     "output_type": "execute_result"
    }
   ],
   "source": [
    "pre"
   ]
  },
  {
   "cell_type": "code",
   "execution_count": 10,
   "metadata": {},
   "outputs": [
    {
     "data": {
      "text/plain": [
       "'.csv'"
      ]
     },
     "execution_count": 10,
     "metadata": {},
     "output_type": "execute_result"
    }
   ],
   "source": [
    "ext"
   ]
  },
  {
   "cell_type": "code",
   "execution_count": null,
   "metadata": {},
   "outputs": [],
   "source": []
  }
 ],
 "metadata": {
  "kernelspec": {
   "display_name": "Python 3",
   "language": "python",
   "name": "python3"
  },
  "language_info": {
   "codemirror_mode": {
    "name": "ipython",
    "version": 3
   },
   "file_extension": ".py",
   "mimetype": "text/x-python",
   "name": "python",
   "nbconvert_exporter": "python",
   "pygments_lexer": "ipython3",
   "version": "3.6.5"
  }
 },
 "nbformat": 4,
 "nbformat_minor": 2
}
