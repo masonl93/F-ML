{
 "cells": [
  {
   "cell_type": "code",
   "execution_count": 24,
   "metadata": {},
   "outputs": [
    {
     "data": {
      "text/plain": [
       "<module 'book_functions' from 'C:\\\\Users\\\\mlevy\\\\Workspace\\\\Advances-in-Financial-Machine-Learning\\\\F-ML\\\\book_functions.py'>"
      ]
     },
     "execution_count": 24,
     "metadata": {},
     "output_type": "execute_result"
    }
   ],
   "source": [
    "import importlib\n",
    "import numpy as np\n",
    "import pandas as pd\n",
    "import seaborn as sns\n",
    "import matplotlib as mpl\n",
    "import matplotlib.pyplot as plt\n",
    "%matplotlib inline\n",
    "import multiprocessing as mp\n",
    "from pathlib import PurePath, Path\n",
    "import pyarrow\n",
    "import scipy.stats as stats\n",
    "import scipy\n",
    "from statsmodels.tsa.stattools import adfuller\n",
    "import time\n",
    "import sys\n",
    "import datetime\n",
    "\n",
    "\n",
    "from sklearn.ensemble import RandomForestClassifier\n",
    "from sklearn.model_selection import train_test_split\n",
    "from sklearn.metrics import roc_curve, classification_report, accuracy_score\n",
    "from sklearn.model_selection import StratifiedKFold\n",
    "from sklearn.svm import SVC\n",
    "\n",
    "\n",
    "from book_functions import *\n",
    "\n",
    "importlib.reload(sys.modules['book_functions'])\n",
    "# importlib.reload(sys.modules['sklearn'])"
   ]
  },
  {
   "cell_type": "code",
   "execution_count": 46,
   "metadata": {},
   "outputs": [],
   "source": [
    "from random import gauss\n",
    "from itertools import product\n",
    "#———————————————————————————————————————\n",
    "# 13.1\n",
    "def main():\n",
    "    # mesh of profit taking and stop loss pairs\n",
    "    #rPT = rSLm = np.linspace(0, 10, 21)\n",
    "    rPT = [5]\n",
    "    rSLm = [10]\n",
    "    count = 0\n",
    "    # Cartesian product of forecasted price and half-life (step 1)\n",
    "    for prod_ in product([10, 5, 0, -5, -10], [5, 10, 25, 50, 100]):\n",
    "        print('Forecast: {},  H-L: {}'.format(prod_[0], prod_[1]))\n",
    "        count += 1\n",
    "        coeffs = {'forecast': prod_[0], 'hl': prod_[1], 'sigma': 1}\n",
    "        output = batch(coeffs, nIter=1e5, maxHP=100, rPT=rPT, rSLm=rSLm)\n",
    "    return output\n",
    "\n",
    "\n",
    "# 13.2\n",
    "def batch(coeffs, nIter=1e5, maxHP=100, rPT=np.linspace(.5, 10, 20),\n",
    "          rSLm=np.linspace(.5, 10, 20), seed=0):\n",
    "    phi, output1 = 2**(-1./coeffs['hl']), []\n",
    "    for comb_ in product(rPT, rSLm):  # step 2: mesh of profit-taking and stop-loss pairs\n",
    "        output2 = []\n",
    "        for iter_ in range(int(nIter)):\n",
    "            p, hp, count = seed, 0, 0\n",
    "            while True:\n",
    "                p = (1-phi)*coeffs['forecast']+phi * \\\n",
    "                    p+coeffs['sigma']*gauss(0, 1)\n",
    "                cP = p-seed\n",
    "                hp += 1\n",
    "                # step 4\n",
    "                if cP > comb_[0] or cP < -comb_[1] or hp > maxHP:\n",
    "                    output2.append(cP)\n",
    "                    break\n",
    "        mean, std = np.mean(output2), np.std(output2)\n",
    "        print('PT: {}, SL: {}, mean: {}, std: {}, SR: {}'.format(comb_[0], comb_[1], mean, std, mean/std))\n",
    "        output1.append((comb_[0], comb_[1], mean, std, mean/std))\n",
    "    return output1"
   ]
  },
  {
   "cell_type": "code",
   "execution_count": 47,
   "metadata": {},
   "outputs": [
    {
     "name": "stdout",
     "output_type": "stream",
     "text": [
      "Forecast: 10,  H-L: 5\n",
      "PT: 5, SL: 10, mean: 5.7851606736597185, std: 0.6261185437509011, SR: 9.239721026313067\n",
      "Forecast: 10,  H-L: 10\n",
      "PT: 5, SL: 10, mean: 5.676732681935291, std: 0.559035872061135, SR: 10.154505221651492\n",
      "Forecast: 10,  H-L: 25\n",
      "PT: 5, SL: 10, mean: 5.5977174905157145, std: 0.6740844437673235, SR: 8.304178418999241\n",
      "Forecast: 10,  H-L: 50\n",
      "PT: 5, SL: 10, mean: 4.958745210783436, std: 2.6331193400314232, SR: 1.8832208382641173\n",
      "Forecast: 10,  H-L: 100\n",
      "PT: 5, SL: 10, mean: 3.329924735884716, std: 4.938865864991082, SR: 0.6742286239212792\n",
      "Forecast: 5,  H-L: 5\n",
      "PT: 5, SL: 10, mean: 5.597447060527242, std: 0.5063125822631507, SR: 11.055318901038147\n",
      "Forecast: 5,  H-L: 10\n",
      "PT: 5, SL: 10, mean: 5.570840055316623, std: 0.5635647627426492, SR: 9.885004215319503\n",
      "Forecast: 5,  H-L: 25\n",
      "PT: 5, SL: 10, mean: 5.045121562774392, std: 2.1533787584397976, SR: 2.342886286493217\n",
      "Forecast: 5,  H-L: 50\n",
      "PT: 5, SL: 10, mean: 3.626904010993998, std: 4.444554452638991, SR: 0.8160332041472669\n",
      "Forecast: 5,  H-L: 100\n",
      "PT: 5, SL: 10, mean: 2.0799365818557547, std: 5.907585207223851, SR: 0.35207898132597204\n",
      "Forecast: 0,  H-L: 5\n",
      "PT: 5, SL: 10, mean: 1.2340371651985655, std: 2.9357241455790737, SR: 0.420351880491534\n",
      "Forecast: 0,  H-L: 10\n",
      "PT: 5, SL: 10, mean: 2.2787650075866432, std: 3.6474697343729985, SR: 0.6247522730927784\n",
      "Forecast: 0,  H-L: 25\n",
      "PT: 5, SL: 10, mean: 1.838307016985029, std: 5.232661362003153, SR: 0.3513139662225903\n",
      "Forecast: 0,  H-L: 50\n",
      "PT: 5, SL: 10, mean: 1.0605464293169737, std: 6.21017549241828, SR: 0.1707755973420955\n",
      "Forecast: 0,  H-L: 100\n",
      "PT: 5, SL: 10, mean: 0.5336445620583208, std: 6.687709280171411, SR: 0.07979482057339715\n",
      "Forecast: -5,  H-L: 5\n",
      "PT: 5, SL: 10, mean: -6.094669425109045, std: 2.8838059798567763, SR: -2.113411743952253\n",
      "Forecast: -5,  H-L: 10\n",
      "PT: 5, SL: 10, mean: -6.720038919216337, std: 3.8018441649960355, SR: -1.7675734794940876\n",
      "Forecast: -5,  H-L: 25\n",
      "PT: 5, SL: 10, mean: -4.600876603076247, std: 6.1712917464724555, SR: -0.7455289414418195\n",
      "Forecast: -5,  H-L: 50\n",
      "PT: 5, SL: 10, mean: -2.4830551766652507, std: 7.010096062841443, SR: -0.3542112910302658\n",
      "Forecast: -5,  H-L: 100\n",
      "PT: 5, SL: 10, mean: -1.2968044732178186, std: 7.1829120691901, SR: -0.18054021276137355\n",
      "Forecast: -10,  H-L: 5\n",
      "PT: 5, SL: 10, mean: -10.59704144551386, std: 0.5078291947068237, SR: -20.867334048472078\n",
      "Forecast: -10,  H-L: 10\n",
      "PT: 5, SL: 10, mean: -10.559808311218259, std: 0.646077770927253, SR: -16.34448480724354\n",
      "Forecast: -10,  H-L: 25\n",
      "PT: 5, SL: 10, mean: -9.245472527358153, std: 3.620400870600688, SR: -2.5537151431035223\n",
      "Forecast: -10,  H-L: 50\n",
      "PT: 5, SL: 10, mean: -5.96586333880562, std: 6.423295540775729, SR: -0.9287854343512169\n",
      "Forecast: -10,  H-L: 100\n",
      "PT: 5, SL: 10, mean: -3.111735025113942, std: 7.2874530657989345, SR: -0.4269989798929563\n"
     ]
    },
    {
     "data": {
      "text/plain": [
       "[(5, 10, -3.111735025113942, 7.2874530657989345, -0.4269989798929563)]"
      ]
     },
     "execution_count": 47,
     "metadata": {},
     "output_type": "execute_result"
    }
   ],
   "source": [
    "main()"
   ]
  },
  {
   "cell_type": "markdown",
   "metadata": {},
   "source": [
    "### 13.1\n",
    "a) Using the code snippets, we can set the profit-taking to 5 (since we want to close position if price rises by 5) and stop-loss to 10 (close position when prices drops by 10). The batch() function then calculates the Sharpe Ratios for various parameters. We will want to take the opposite sign of the Sharpe Ratios since we have a short position and will profit from the stop-loss and face a loss from the profit-take.  \n",
    "These thresholds are reasonable if the forecasted price has a negative long-run equilibrium. In addition, the smaller half-life, the higher the Sharpe Ratio.  \n",
    "  \n",
    "b) Geometric Brownian motion is an alternative process that might make sense for these thresholds.  \n",
    "TODO: is this correct?"
   ]
  },
  {
   "cell_type": "markdown",
   "metadata": {},
   "source": [
    "### 13.2 - 13.4\n",
    "TODO: Figure out how to fit time series to an O-U process.  \n",
    "TODO: Find an additional dataset to compare with"
   ]
  },
  {
   "cell_type": "code",
   "execution_count": null,
   "metadata": {},
   "outputs": [],
   "source": []
  }
 ],
 "metadata": {
  "kernelspec": {
   "display_name": "Python 3",
   "language": "python",
   "name": "python3"
  },
  "language_info": {
   "codemirror_mode": {
    "name": "ipython",
    "version": 3
   },
   "file_extension": ".py",
   "mimetype": "text/x-python",
   "name": "python",
   "nbconvert_exporter": "python",
   "pygments_lexer": "ipython3",
   "version": "3.6.5"
  }
 },
 "nbformat": 4,
 "nbformat_minor": 2
}
