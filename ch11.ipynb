{
 "cells": [
  {
   "cell_type": "markdown",
   "metadata": {},
   "source": [
    "### 11.1\n",
    "Look-ahead bias since the Jan data would not be available until at least a month or so after Janurary  \n",
    "\n",
    "### 11.2\n",
    "Look-ahead bias because the analyst is using information (closing price) at the same time of the trade. It would not be possible to execute a trade at close when also generating a signal from close. There must be some delay  \n",
    "\n",
    "### 11.3\n",
    "Storytelling. This is most likely a random pattern and just because there is some correlation does not mean there is causation. This random pattern most likely will not persist in the future.  \n",
    "\n",
    "### 11.4\n",
    "Storytelling once again. This is most likely just a random pattern. If we simulate random data over similar time horizons, there is a good chance that at least one month shows negative average returns.  \n",
    "\n",
    "### 11.5\n",
    "Shorting. Since we are selling the most expensive stocks, there is a very good chance that some of these expensive stocks have high short interests, hence the lending rate could be very expensive, or even worse we might not even be able to find shares to borrow."
   ]
  },
  {
   "cell_type": "code",
   "execution_count": null,
   "metadata": {},
   "outputs": [],
   "source": []
  }
 ],
 "metadata": {
  "kernelspec": {
   "display_name": "Python 3",
   "language": "python",
   "name": "python3"
  },
  "language_info": {
   "codemirror_mode": {
    "name": "ipython",
    "version": 3
   },
   "file_extension": ".py",
   "mimetype": "text/x-python",
   "name": "python",
   "nbconvert_exporter": "python",
   "pygments_lexer": "ipython3",
   "version": "3.6.5"
  }
 },
 "nbformat": 4,
 "nbformat_minor": 2
}
